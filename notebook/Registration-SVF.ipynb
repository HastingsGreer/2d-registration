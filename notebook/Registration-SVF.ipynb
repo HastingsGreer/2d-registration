{
 "cells": [
  {
   "cell_type": "code",
   "execution_count": 29,
   "metadata": {},
   "outputs": [],
   "source": [
    "import sys\n",
    "import os\n",
    "sys.path.append(os.path.join(os.path.abspath(''), '../mermaid'))"
   ]
  },
  {
   "cell_type": "code",
   "execution_count": 115,
   "metadata": {},
   "outputs": [],
   "source": [
    "import torch\n",
    "import torch.nn as nn\n",
    "import torch.nn.functional as F\n",
    "import numpy as np\n",
    "import torchvision\n",
    "import sys\n",
    "import os\n",
    "import matplotlib.pyplot as plt\n",
    "import mermaid.module_parameters as pars\n",
    "import mermaid.model_factory as py_mf\n",
    "import mermaid.utils as py_utils\n",
    "import mermaid.similarity_measure_factory as smf\n",
    "from mermaid.data_wrapper import AdaptVal\n",
    "import mermaid.image_sampling as py_is\n",
    "import mermaid.example_generation as eg\n",
    "ds = torch.utils.data.DataLoader(\n",
    "    torchvision.datasets.MNIST(\"./files/\",\n",
    "        transform=torchvision.transforms.ToTensor(),\n",
    "                               download=True\n",
    "    ),\n",
    "    batch_size=500\n",
    ")\n",
    "import numpy as np\n",
    "images = []\n",
    "for _, batch in enumerate(ds):\n",
    "    label = np.array(batch[1])\n",
    "    batch_nines = label==9\n",
    "    images.append(np.array(batch[0])[batch_nines])\n",
    "images = np.concatenate(images)\n",
    "\n",
    "BATCH_SIZE = 128\n",
    "ds = torch.utils.data.TensorDataset(torch.Tensor(images))\n",
    "d1, d2 = (torch.utils.data.DataLoader(ds, batch_size=BATCH_SIZE, shuffle=True, ) for _ in (1,1))\n",
    "\n"
   ]
  },
  {
   "cell_type": "code",
   "execution_count": 116,
   "metadata": {},
   "outputs": [],
   "source": [
    "import matplotlib.pyplot as plt"
   ]
  },
  {
   "cell_type": "code",
   "execution_count": 117,
   "metadata": {},
   "outputs": [
    {
     "name": "stdout",
     "output_type": "stream",
     "text": [
      "Loading parameter file = mermaid_config_svf.json\n",
      "Overwriting key = type; category = root.model.registration_model; value =  svf_map -> lddmm_shooting_map\n",
      "Using map-based lddmm_shooting_map model\n",
      "Using default value = True for key = use_CFL_clamping of category = root.model.registration_model\n",
      "Using default value = False for key = use_ode_tuple of category = root.model.registration_model.env\n",
      "Creating new category: root.model.registration_model.forward_model\n",
      "Creating new category: root.model.registration_model.forward_model.smoother\n",
      "Using default value = multiGaussian for key = type of category = root.model.registration_model.forward_model.smoother\n",
      "Using default value = [0.05, 0.1, 0.15, 0.2, 0.25] for key = multi_gaussian_stds of category = root.model.registration_model.forward_model.smoother\n",
      "Using default value = [0.06666666666666667, 0.13333333333333333, 0.19999999999999998, 0.26666666666666666, 0.3333333333333333] for key = multi_gaussian_weights of category = root.model.registration_model.forward_model.smoother\n",
      "the param of smoother is <mermaid.smoother_factory.MultiGaussianFourierSmoother object at 0x7f1d77946750>\n",
      "Creating new category: root.model.registration_model.shooting_vector_momentum\n",
      "Using default value = False for key = use_velocity_mask_on_boundary of category = root.model.registration_model.shooting_vector_momentum\n",
      "Creating new category: root.model.registration_model.loss\n",
      "Using default value = False for key = display_max_displacement of category = root.model.registration_model.loss\n",
      "Using default value = False for key = limit_displacement of category = root.model.registration_model.loss\n",
      "Using default value = 0.05 for key = max_displacement of category = root.model.registration_model.loss\n",
      "Registering new similarity measure ssd in factory\n"
     ]
    },
    {
     "data": {
      "text/plain": [
       "0"
      ]
     },
     "execution_count": 117,
     "metadata": {},
     "output_type": "execute_result"
    }
   ],
   "source": [
    "import torch.nn as nn\n",
    "import torch.nn.functional as F\n",
    "import torch.optim as optim\n",
    "class RegisNet(nn.Module):\n",
    "    def __init__(self):\n",
    "        super(RegisNet, self).__init__()\n",
    "        self.conv1 = nn.Conv2d(2, 10, kernel_size=5, padding=2)\n",
    "        self.conv2 = nn.Conv2d(12, 10, kernel_size=5, padding=2)\n",
    "        self.conv3 = nn.Conv2d(22, 10, kernel_size=5, padding=2)\n",
    "        self.conv4 = nn.Conv2d(32, 10, kernel_size=5, padding=2)\n",
    "        self.conv5 = nn.Conv2d(42, 10, kernel_size=5, padding=2)\n",
    "        self.conv6 = nn.Conv2d(52, 2, kernel_size=5, padding=2)\n",
    "\n",
    "    def forward(self, x, y):\n",
    "        x= torch.cat([x, y], 1)\n",
    "        \n",
    "        x = torch.cat([x, F.relu(self.conv1(x))], 1)\n",
    "        x = torch.cat([x, F.relu(self.conv2(x))], 1)\n",
    "        x = torch.cat([x, F.relu(self.conv3(x))], 1)\n",
    "        x = torch.cat([x, F.relu(self.conv4(x))], 1)\n",
    "        x = torch.cat([x, F.relu(self.conv5(x))], 1)\n",
    "        \n",
    "        return self.conv6(x)\n",
    "\n",
    "\n",
    "class MermaidNet(nn.Module):\n",
    "    def __init__(self):\n",
    "        super(MermaidNet, self).__init__()       \n",
    "        parameters = pars.ParameterDict()\n",
    "        parameters.load_JSON(\"mermaid_config_svf.json\")\n",
    "        self.sz = np.array([BATCH_SIZE, 1, 28, 28])\n",
    "        self.spacing = 1./(self.sz[2::]-1) \n",
    "        mf = py_mf.ModelFactory(self.sz, self.spacing, self.sz, self.spacing)\n",
    "        net, loss = mf.create_registration_model(\n",
    "            'lddmm_shooting_map', parameters[\"model\"])\n",
    "        loss.add_similarity_measure(\"ssd\", smf.SSDSimilarity)\n",
    "\n",
    "        _id = py_utils.identity_map_multiN(self.sz, self.spacing)\n",
    "        self.identityMap = torch.from_numpy(_id).cuda()\n",
    "        self.mermaid_unit = net.cuda()\n",
    "        self.mermaid_loss = loss\n",
    "        \n",
    "        self.regis_net = RegisNet().cuda()\n",
    "        \n",
    "\n",
    "    def forward(self, moving_image, fixed_image):\n",
    "        \n",
    "        #modify self.mermaid_unit.m here\n",
    "        m = self.regis_net(moving_image, fixed_image)\n",
    "        self.mermaid_unit.m = m\n",
    "        self.mermaid_loss.m = m\n",
    "        \n",
    "        #this call modifies self.phi\n",
    "        self.warped_moving_image = self.__mermaid_shoot__(moving_image)\n",
    "        \n",
    "        all_loss, sim_loss, reg_loss = self.mermaid_loss(\n",
    "            self.identityMap, \n",
    "            self.phi,\n",
    "            moving_image,\n",
    "            fixed_image,\n",
    "            None,\n",
    "            variables_from_forward_model=self.mermaid_unit.get_variables_to_transfer_to_loss_function(),\n",
    "            variables_from_optimizer=None\n",
    "        )\n",
    "        self.loss_dict = {\n",
    "            'all_loss': all_loss / self.sz[0],\n",
    "            'sim_loss': sim_loss / self.sz[0],\n",
    "            'reg_loss': reg_loss / self.sz[0]\n",
    "        }\n",
    "\n",
    "    def __mermaid_shoot__(self, moving_image):\n",
    "        self.phi=self.mermaid_unit(self.identityMap, moving_image)\n",
    "        warped_moving_image = py_utils.compute_warped_image_multiNC(\n",
    "            moving_image, \n",
    "            self.phi,\n",
    "            self.spacing,\n",
    "            spline_order=1\n",
    "        )\n",
    "        return warped_moving_image\n",
    "\n",
    "\n",
    "\n",
    "net = MermaidNet()\n",
    "0"
   ]
  },
  {
   "cell_type": "code",
   "execution_count": 118,
   "metadata": {},
   "outputs": [
    {
     "data": {
      "text/plain": [
       "MermaidNet(\n",
       "  (mermaid_unit): LDDMMShootingVectorMomentumMapNet(\n",
       "    (integrator): ODEWrapBlock()\n",
       "  )\n",
       "  (mermaid_loss): LDDMMShootingVectorMomentumMapLoss()\n",
       "  (regis_net): RegisNet(\n",
       "    (conv1): Conv2d(2, 10, kernel_size=(5, 5), stride=(1, 1), padding=(2, 2))\n",
       "    (conv2): Conv2d(12, 10, kernel_size=(5, 5), stride=(1, 1), padding=(2, 2))\n",
       "    (conv3): Conv2d(22, 10, kernel_size=(5, 5), stride=(1, 1), padding=(2, 2))\n",
       "    (conv4): Conv2d(32, 10, kernel_size=(5, 5), stride=(1, 1), padding=(2, 2))\n",
       "    (conv5): Conv2d(42, 10, kernel_size=(5, 5), stride=(1, 1), padding=(2, 2))\n",
       "    (conv6): Conv2d(52, 2, kernel_size=(5, 5), stride=(1, 1), padding=(2, 2))\n",
       "  )\n",
       ")"
      ]
     },
     "execution_count": 118,
     "metadata": {},
     "output_type": "execute_result"
    }
   ],
   "source": [
    "optimizer = torch.optim.Adam(net.parameters(), lr=.001)\n",
    "net.train()"
   ]
  },
  {
   "cell_type": "code",
   "execution_count": 132,
   "metadata": {},
   "outputs": [
    {
     "name": "stderr",
     "output_type": "stream",
     "text": [
      "/media/data/anaconda3/envs/mermaid/lib/python3.7/site-packages/torch/nn/functional.py:2705: UserWarning: Default grid_sample and affine_grid behavior has changed to align_corners=False since 1.3.0. Please specify align_corners=True if the old behavior is desired. See the documentation of grid_sample for details.\n",
      "  warnings.warn(\"Default grid_sample and affine_grid behavior has changed \"\n"
     ]
    },
    {
     "name": "stdout",
     "output_type": "stream",
     "text": [
      "[2.8049304]\n",
      "[2.640051]\n",
      "[2.7598703]\n",
      "[2.402403]\n",
      "[2.3896272]\n",
      "[2.5915244]\n",
      "[2.9495668]\n",
      "[3.136768]\n",
      "[2.8892636]\n",
      "[2.3814504]\n",
      "[2.3928876]\n",
      "[2.6014197]\n",
      "[2.724559]\n",
      "[2.7233322]\n",
      "[2.7376542]\n",
      "[2.5296748]\n",
      "[2.5784628]\n",
      "[2.7925758]\n",
      "[2.5719123]\n",
      "[2.6676178]\n",
      "[2.612635]\n",
      "[2.730136]\n",
      "[2.6461208]\n",
      "[2.8078108]\n",
      "[2.6468973]\n",
      "[2.5752993]\n",
      "[2.7840052]\n",
      "[2.5344067]\n",
      "[2.3924372]\n",
      "[2.9386992]\n",
      "[2.3247573]\n",
      "[2.5604084]\n",
      "[2.813466]\n",
      "[2.733212]\n",
      "[2.6619215]\n",
      "[2.522627]\n",
      "[2.638553]\n",
      "[2.6098397]\n",
      "[2.4192111]\n",
      "[2.3825047]\n",
      "[2.5184588]\n",
      "[2.790852]\n",
      "[2.6994684]\n",
      "[2.7232943]\n",
      "[2.3926046]\n",
      "[2.5617948]\n",
      "[2.519613]\n",
      "[2.5856442]\n",
      "[2.3192444]\n",
      "[2.5657823]\n",
      "[2.4469404]\n",
      "[2.6062338]\n",
      "[2.6586678]\n",
      "[2.8725386]\n",
      "[2.7349339]\n",
      "[2.849458]\n",
      "[2.3567412]\n",
      "[2.6005173]\n",
      "[3.040936]\n",
      "[2.901381]\n",
      "[2.6725347]\n",
      "[3.0183935]\n",
      "[3.1401978]\n",
      "[2.5176826]\n",
      "[2.9222262]\n",
      "[2.508418]\n",
      "[2.6883836]\n",
      "[2.8492973]\n",
      "[2.4929917]\n",
      "[2.637477]\n",
      "[2.5280674]\n",
      "[2.8977156]\n",
      "[2.6588616]\n",
      "[2.6054153]\n",
      "[2.8072202]\n",
      "[2.599511]\n",
      "[2.9592268]\n",
      "[2.4860516]\n",
      "[2.8975315]\n",
      "[2.304518]\n",
      "[2.881614]\n",
      "[2.641987]\n",
      "[2.5085661]\n",
      "[2.3687546]\n",
      "[2.34148]\n",
      "[2.6457717]\n",
      "[2.1987045]\n",
      "[2.486093]\n",
      "[2.4559672]\n",
      "[2.5842288]\n",
      "[2.411875]\n",
      "[2.4147487]\n",
      "[2.435456]\n",
      "[2.129397]\n",
      "[2.3595042]\n",
      "[2.5600448]\n",
      "[2.59111]\n",
      "[2.7576084]\n",
      "[2.5360491]\n",
      "[2.2937186]\n",
      "[2.384034]\n",
      "[2.5789907]\n",
      "[2.438257]\n",
      "[2.5476406]\n",
      "[2.4962175]\n",
      "[2.3845334]\n",
      "[2.4161475]\n",
      "[2.6452348]\n",
      "[2.5137897]\n",
      "[2.853777]\n",
      "[2.4176881]\n",
      "[2.3264756]\n",
      "[2.595054]\n",
      "[2.5654671]\n",
      "[2.483739]\n",
      "[2.1864927]\n",
      "[2.4312575]\n",
      "[2.4671476]\n",
      "[2.1749358]\n",
      "[2.3826642]\n",
      "[2.5367727]\n",
      "[2.348748]\n",
      "[2.4503944]\n",
      "[2.394049]\n",
      "[2.4277894]\n",
      "[2.1914334]\n",
      "[2.4632604]\n",
      "[2.4167905]\n",
      "[2.368185]\n",
      "[2.548387]\n",
      "[2.2460513]\n",
      "[2.2321677]\n",
      "[2.3959696]\n",
      "[2.517949]\n",
      "[2.2143443]\n",
      "[2.37075]\n",
      "[2.6479278]\n",
      "[2.5229745]\n",
      "[2.4637296]\n",
      "[2.3264391]\n",
      "[2.4374082]\n",
      "[2.445382]\n",
      "[2.5359075]\n",
      "[2.722345]\n",
      "[2.5784676]\n",
      "[2.227599]\n",
      "[2.389381]\n",
      "[2.3399942]\n",
      "[2.3157604]\n",
      "[2.3766294]\n",
      "[2.3107023]\n",
      "[2.3311198]\n",
      "[2.3594687]\n",
      "[2.253072]\n",
      "[2.4628377]\n",
      "[2.1031542]\n",
      "[2.3582778]\n",
      "[2.4665368]\n",
      "[2.2516317]\n",
      "[2.230887]\n",
      "[2.4494717]\n",
      "[2.345444]\n",
      "[2.2630942]\n",
      "[2.3508954]\n",
      "[2.4029634]\n",
      "[2.32014]\n",
      "[2.3425245]\n",
      "[2.1376934]\n",
      "[2.2594292]\n",
      "[2.3923934]\n",
      "[2.4632838]\n",
      "[2.1862407]\n",
      "[1.999982]\n",
      "[2.2289343]\n",
      "[2.4359016]\n",
      "[2.341923]\n",
      "[2.3580678]\n",
      "[2.2770529]\n",
      "[2.1262212]\n",
      "[2.2571805]\n",
      "[2.121765]\n",
      "[2.2680821]\n",
      "[2.0867755]\n",
      "[2.135323]\n",
      "[2.3695304]\n",
      "[2.221285]\n",
      "[2.143326]\n",
      "[2.2771866]\n",
      "[2.4169881]\n",
      "[2.7896497]\n",
      "[2.4301963]\n",
      "[2.0808277]\n",
      "[2.6330252]\n",
      "[2.2581348]\n",
      "[2.3844888]\n",
      "[2.4779055]\n",
      "[2.2942104]\n",
      "[2.4980986]\n",
      "[2.3122742]\n",
      "[2.2844064]\n",
      "[2.693064]\n",
      "[2.2144852]\n",
      "[2.5857742]\n",
      "[2.5031145]\n",
      "[1.9542164]\n",
      "[2.170792]\n",
      "[2.4072006]\n",
      "[2.084926]\n",
      "[2.4881194]\n",
      "[2.169463]\n",
      "[2.1284735]\n",
      "[2.3017201]\n",
      "[2.2210498]\n",
      "[2.2396798]\n",
      "[2.303647]\n",
      "[2.2842758]\n",
      "[2.2201312]\n",
      "[2.1268523]\n",
      "[2.4277914]\n",
      "[2.3938997]\n",
      "[2.3741262]\n",
      "[2.536087]\n",
      "[2.2907228]\n",
      "[2.034863]\n",
      "[2.1450446]\n",
      "[2.3082833]\n",
      "[2.2035868]\n",
      "[2.9297552]\n",
      "[2.6868875]\n",
      "[2.2304444]\n",
      "[2.0434158]\n",
      "[2.10383]\n",
      "[2.3062098]\n",
      "[2.3738427]\n",
      "[2.1643877]\n",
      "[2.3305047]\n",
      "[2.204915]\n",
      "[2.2472854]\n",
      "[1.9844567]\n",
      "[2.1966977]\n",
      "[2.1840608]\n",
      "[2.3549063]\n",
      "[2.2651236]\n",
      "[2.005807]\n",
      "[2.2472224]\n",
      "[2.1177163]\n",
      "[2.388505]\n",
      "[2.1754003]\n",
      "[2.2161493]\n",
      "[2.1706097]\n",
      "[2.394105]\n",
      "[2.0651748]\n",
      "[2.2191749]\n",
      "[2.0896125]\n",
      "[2.3585145]\n",
      "[2.3357706]\n",
      "[2.183004]\n",
      "[2.2362568]\n",
      "[2.3390722]\n",
      "[2.4357154]\n",
      "[2.203321]\n",
      "[2.2272363]\n",
      "[2.381433]\n",
      "[2.6425543]\n",
      "[2.252988]\n",
      "[2.2952797]\n",
      "[2.3749566]\n",
      "[2.4974406]\n",
      "[2.2456112]\n",
      "[2.3669436]\n",
      "[2.2327945]\n",
      "[2.2326496]\n",
      "[2.2667453]\n",
      "[2.0842133]\n",
      "[2.2996235]\n",
      "[2.14613]\n",
      "[2.1621537]\n",
      "[2.237469]\n",
      "[2.217543]\n",
      "[1.9971995]\n",
      "[2.0343018]\n",
      "[2.231253]\n",
      "[2.183061]\n",
      "[2.238902]\n",
      "[2.55749]\n",
      "[2.364958]\n",
      "[1.9631205]\n",
      "[2.5337229]\n",
      "[2.1524909]\n",
      "[2.2262704]\n",
      "[2.4045103]\n",
      "[2.140914]\n",
      "[2.1957588]\n",
      "[2.2339454]\n",
      "[2.23485]\n",
      "[2.545651]\n",
      "[2.2004144]\n",
      "[1.9235519]\n",
      "[2.1939209]\n",
      "[2.6164927]\n",
      "[2.1417513]\n",
      "[2.1573653]\n",
      "[2.1956873]\n",
      "[2.2691088]\n",
      "[2.5363176]\n",
      "[2.2470376]\n",
      "[2.1364617]\n",
      "[2.6114142]\n",
      "[2.062117]\n",
      "[1.9719598]\n",
      "[2.2279134]\n",
      "[2.3264673]\n",
      "[2.025004]\n",
      "[2.2647266]\n",
      "[2.3684037]\n",
      "[2.1292243]\n",
      "[2.235204]\n",
      "[2.1333196]\n",
      "[2.2714212]\n",
      "[2.1724687]\n",
      "[2.474917]\n",
      "[2.125676]\n",
      "[2.156174]\n",
      "[2.2649727]\n",
      "[2.1304002]\n",
      "[2.2065117]\n",
      "[2.5206232]\n",
      "[2.293291]\n",
      "[2.1960986]\n",
      "[2.2150614]\n",
      "[2.5095308]\n",
      "[2.3451877]\n",
      "[2.1304011]\n",
      "[2.1636376]\n",
      "[2.5762582]\n",
      "[2.1711905]\n",
      "[2.467865]\n",
      "[2.3237681]\n",
      "[2.0580614]\n",
      "[2.0717537]\n",
      "[2.1387005]\n",
      "[2.233836]\n",
      "[2.3059611]\n",
      "[2.1213791]\n",
      "[2.1012325]\n",
      "[2.1405191]\n",
      "[2.2146325]\n",
      "[2.1565351]\n",
      "[2.2523367]\n",
      "[2.139645]\n",
      "[2.4172425]\n",
      "[2.5424745]\n",
      "[2.0998268]\n",
      "[2.1376064]\n",
      "[2.136801]\n",
      "[2.3402612]\n",
      "[1.9504466]\n",
      "[2.327488]\n",
      "[2.347994]\n",
      "[2.0447543]\n",
      "[2.3187954]\n",
      "[2.1719341]\n",
      "[2.2434814]\n",
      "[2.2295046]\n",
      "[2.22917]\n",
      "[1.9348073]\n",
      "[2.1904957]\n",
      "[2.6573827]\n",
      "[2.163714]\n",
      "[2.2701385]\n",
      "[2.333611]\n",
      "[2.3324683]\n",
      "[2.227074]\n",
      "[2.4594717]\n",
      "[2.0643768]\n",
      "[2.0620313]\n",
      "[2.2154677]\n",
      "[2.3892515]\n",
      "[2.0805154]\n",
      "[2.3223352]\n",
      "[2.089657]\n",
      "[1.9506146]\n",
      "[2.160431]\n",
      "[2.0622742]\n",
      "[2.199076]\n",
      "[2.4312575]\n",
      "[2.2356176]\n",
      "[2.258451]\n",
      "[2.349569]\n",
      "[1.9898698]\n",
      "[2.1397967]\n",
      "[2.1195772]\n",
      "[2.0740435]\n",
      "[2.1449924]\n",
      "[1.9482642]\n",
      "[2.1822827]\n",
      "[2.1356978]\n",
      "[2.060876]\n",
      "[2.0938005]\n",
      "[2.2176852]\n",
      "[2.1175659]\n",
      "[2.211714]\n",
      "[2.1226506]\n",
      "[1.8979981]\n",
      "[2.1058085]\n",
      "[2.1625898]\n",
      "[1.9806848]\n",
      "[2.1181936]\n",
      "[2.011884]\n",
      "[1.9470665]\n",
      "[1.9674846]\n",
      "[2.0403342]\n",
      "[2.1076112]\n",
      "[2.2557173]\n",
      "[2.1280305]\n",
      "[2.0093036]\n",
      "[1.9715818]\n",
      "[2.3050652]\n",
      "[2.2587469]\n",
      "[2.3373783]\n",
      "[1.9787432]\n",
      "[2.3098717]\n",
      "[2.0396266]\n",
      "[1.7441984]\n",
      "[1.9741164]\n",
      "[1.9183846]\n",
      "[1.9063232]\n",
      "[2.1291506]\n",
      "[2.3754876]\n",
      "[1.8733429]\n",
      "[2.1937656]\n",
      "[2.058649]\n",
      "[2.0527463]\n",
      "[2.3064604]\n",
      "[2.0224698]\n",
      "[2.2168891]\n",
      "[1.937939]\n",
      "[2.055488]\n",
      "[2.0756485]\n",
      "[2.0407524]\n",
      "[2.159616]\n",
      "[1.99347]\n",
      "[2.0661955]\n",
      "[2.3226333]\n",
      "the rk4 solver failed, now move into the debug mode\n",
      "[1.986494]\n",
      "[2.2631686]\n",
      "[2.1420205]\n",
      "[2.2473097]\n",
      "[2.2542837]\n",
      "[2.1678843]\n",
      "[2.198806]\n",
      "[2.0690253]\n",
      "[1.9634932]\n",
      "[2.0175164]\n"
     ]
    },
    {
     "ename": "KeyboardInterrupt",
     "evalue": "",
     "output_type": "error",
     "traceback": [
      "\u001b[0;31m---------------------------------------------------------------------------\u001b[0m",
      "\u001b[0;31mKeyboardInterrupt\u001b[0m                         Traceback (most recent call last)",
      "\u001b[0;32m<ipython-input-132-104977ed15dd>\u001b[0m in \u001b[0;36m<module>\u001b[0;34m\u001b[0m\n\u001b[1;32m      8\u001b[0m             \u001b[0mloss\u001b[0m \u001b[0;34m=\u001b[0m \u001b[0mnet\u001b[0m\u001b[0;34m.\u001b[0m\u001b[0mloss_dict\u001b[0m\u001b[0;34m[\u001b[0m\u001b[0;34m\"all_loss\"\u001b[0m\u001b[0;34m]\u001b[0m\u001b[0;34m\u001b[0m\u001b[0;34m\u001b[0m\u001b[0m\n\u001b[1;32m      9\u001b[0m             \u001b[0mprint\u001b[0m\u001b[0;34m(\u001b[0m\u001b[0mloss\u001b[0m\u001b[0;34m.\u001b[0m\u001b[0mcpu\u001b[0m\u001b[0;34m(\u001b[0m\u001b[0;34m)\u001b[0m\u001b[0;34m.\u001b[0m\u001b[0mdetach\u001b[0m\u001b[0;34m(\u001b[0m\u001b[0;34m)\u001b[0m\u001b[0;34m.\u001b[0m\u001b[0mnumpy\u001b[0m\u001b[0;34m(\u001b[0m\u001b[0;34m)\u001b[0m\u001b[0;34m)\u001b[0m\u001b[0;34m\u001b[0m\u001b[0;34m\u001b[0m\u001b[0m\n\u001b[0;32m---> 10\u001b[0;31m             \u001b[0mloss\u001b[0m\u001b[0;34m.\u001b[0m\u001b[0mbackward\u001b[0m\u001b[0;34m(\u001b[0m\u001b[0;34m)\u001b[0m\u001b[0;34m\u001b[0m\u001b[0;34m\u001b[0m\u001b[0m\n\u001b[0m\u001b[1;32m     11\u001b[0m             \u001b[0moptimizer\u001b[0m\u001b[0;34m.\u001b[0m\u001b[0mstep\u001b[0m\u001b[0;34m(\u001b[0m\u001b[0;34m)\u001b[0m\u001b[0;34m\u001b[0m\u001b[0;34m\u001b[0m\u001b[0m\n",
      "\u001b[0;32m/media/data/anaconda3/envs/mermaid/lib/python3.7/site-packages/torch/tensor.py\u001b[0m in \u001b[0;36mbackward\u001b[0;34m(self, gradient, retain_graph, create_graph)\u001b[0m\n\u001b[1;32m    193\u001b[0m                 \u001b[0mproducts\u001b[0m\u001b[0;34m.\u001b[0m \u001b[0mDefaults\u001b[0m \u001b[0mto\u001b[0m\u001b[0;31m \u001b[0m\u001b[0;31m`\u001b[0m\u001b[0;31m`\u001b[0m\u001b[0;32mFalse\u001b[0m\u001b[0;31m`\u001b[0m\u001b[0;31m`\u001b[0m\u001b[0;34m.\u001b[0m\u001b[0;34m\u001b[0m\u001b[0;34m\u001b[0m\u001b[0m\n\u001b[1;32m    194\u001b[0m         \"\"\"\n\u001b[0;32m--> 195\u001b[0;31m         \u001b[0mtorch\u001b[0m\u001b[0;34m.\u001b[0m\u001b[0mautograd\u001b[0m\u001b[0;34m.\u001b[0m\u001b[0mbackward\u001b[0m\u001b[0;34m(\u001b[0m\u001b[0mself\u001b[0m\u001b[0;34m,\u001b[0m \u001b[0mgradient\u001b[0m\u001b[0;34m,\u001b[0m \u001b[0mretain_graph\u001b[0m\u001b[0;34m,\u001b[0m \u001b[0mcreate_graph\u001b[0m\u001b[0;34m)\u001b[0m\u001b[0;34m\u001b[0m\u001b[0;34m\u001b[0m\u001b[0m\n\u001b[0m\u001b[1;32m    196\u001b[0m \u001b[0;34m\u001b[0m\u001b[0m\n\u001b[1;32m    197\u001b[0m     \u001b[0;32mdef\u001b[0m \u001b[0mregister_hook\u001b[0m\u001b[0;34m(\u001b[0m\u001b[0mself\u001b[0m\u001b[0;34m,\u001b[0m \u001b[0mhook\u001b[0m\u001b[0;34m)\u001b[0m\u001b[0;34m:\u001b[0m\u001b[0;34m\u001b[0m\u001b[0;34m\u001b[0m\u001b[0m\n",
      "\u001b[0;32m/media/data/anaconda3/envs/mermaid/lib/python3.7/site-packages/torch/autograd/__init__.py\u001b[0m in \u001b[0;36mbackward\u001b[0;34m(tensors, grad_tensors, retain_graph, create_graph, grad_variables)\u001b[0m\n\u001b[1;32m     97\u001b[0m     Variable._execution_engine.run_backward(\n\u001b[1;32m     98\u001b[0m         \u001b[0mtensors\u001b[0m\u001b[0;34m,\u001b[0m \u001b[0mgrad_tensors\u001b[0m\u001b[0;34m,\u001b[0m \u001b[0mretain_graph\u001b[0m\u001b[0;34m,\u001b[0m \u001b[0mcreate_graph\u001b[0m\u001b[0;34m,\u001b[0m\u001b[0;34m\u001b[0m\u001b[0;34m\u001b[0m\u001b[0m\n\u001b[0;32m---> 99\u001b[0;31m         allow_unreachable=True)  # allow_unreachable flag\n\u001b[0m\u001b[1;32m    100\u001b[0m \u001b[0;34m\u001b[0m\u001b[0m\n\u001b[1;32m    101\u001b[0m \u001b[0;34m\u001b[0m\u001b[0m\n",
      "\u001b[0;31mKeyboardInterrupt\u001b[0m: "
     ]
    }
   ],
   "source": [
    "for _ in range(240):\n",
    "    for moving, fixed in list(zip(d1, d2)):\n",
    "        if moving[0].size()[0] == BATCH_SIZE:\n",
    "            moving_image = moving[0].cuda()\n",
    "            fixed_image = fixed[0].cuda()\n",
    "            optimizer.zero_grad()\n",
    "            net(moving_image, fixed_image)\n",
    "            loss = net.loss_dict[\"all_loss\"]\n",
    "            print(loss.cpu().detach().numpy())\n",
    "            loss.backward()\n",
    "            optimizer.step()\n"
   ]
  },
  {
   "cell_type": "code",
   "execution_count": 133,
   "metadata": {},
   "outputs": [],
   "source": [
    "phi = np.array((net.phi).cpu().detach())\n",
    "iden = np.array(net.identityMap.cpu())"
   ]
  },
  {
   "cell_type": "code",
   "execution_count": 134,
   "metadata": {},
   "outputs": [
    {
     "data": {
      "text/plain": [
       "torch.Size([128, 1, 28, 28])"
      ]
     },
     "execution_count": 134,
     "metadata": {},
     "output_type": "execute_result"
    }
   ],
   "source": [
    "moving[0].size()"
   ]
  },
  {
   "cell_type": "code",
   "execution_count": 143,
   "metadata": {},
   "outputs": [
    {
     "name": "stdout",
     "output_type": "stream",
     "text": [
      "98\n"
     ]
    },
    {
     "data": {
      "text/plain": [
       "<matplotlib.collections.PathCollection at 0x7f1d741bcd10>"
      ]
     },
     "execution_count": 143,
     "metadata": {},
     "output_type": "execute_result"
    },
    {
     "data": {
      "image/png": "[encoded data removed]",
      "text/plain": [
       "<Figure size 432x288 with 1 Axes>"
      ]
     },
     "metadata": {},
     "output_type": "display_data"
    }
   ],
   "source": [
    "import random\n",
    "N = random.randint(1, 100)\n",
    "print(N)\n",
    "plt.style.use(\"dark_background\")\n",
    "l = 0\n",
    "a = l * iden + (1 - l) * phi\n",
    "plt.axes().set_aspect('equal')\n",
    "plt.scatter(a[N][1].flatten(), -a[N][0].flatten(), \n",
    "            c=fixed_image[N, 0].cpu().numpy().flatten())"
   ]
  },
  {
   "cell_type": "code",
   "execution_count": 144,
   "metadata": {},
   "outputs": [
    {
     "data": {
      "text/plain": [
       "<matplotlib.image.AxesImage at 0x7f1d74130f50>"
      ]
     },
     "execution_count": 144,
     "metadata": {},
     "output_type": "execute_result"
    },
    {
     "data": {
      "image/png": "[encoded data removed]",
      "text/plain": [
       "<Figure size 432x288 with 1 Axes>"
      ]
     },
     "metadata": {},
     "output_type": "display_data"
    }
   ],
   "source": [
    "plt.imshow(fixed_image[N, 0].cpu().numpy())"
   ]
  },
  {
   "cell_type": "code",
   "execution_count": 145,
   "metadata": {},
   "outputs": [
    {
     "data": {
      "text/plain": [
       "<matplotlib.image.AxesImage at 0x7f1d7c0201d0>"
      ]
     },
     "execution_count": 145,
     "metadata": {},
     "output_type": "execute_result"
    },
    {
     "data": {
      "image/png": "[encoded data removed]",
      "text/plain": [
       "<Figure size 432x288 with 1 Axes>"
      ]
     },
     "metadata": {},
     "output_type": "display_data"
    }
   ],
   "source": [
    "plt.imshow(moving_image[N, 0].cpu().numpy())"
   ]
  },
  {
   "cell_type": "code",
   "execution_count": 147,
   "metadata": {},
   "outputs": [
    {
     "data": {
      "text/plain": [
       "<matplotlib.image.AxesImage at 0x7f1d740582d0>"
      ]
     },
     "execution_count": 147,
     "metadata": {},
     "output_type": "execute_result"
    },
    {
     "data": {
      "image/png": "[encoded data removed]",
      "text/plain": [
       "<Figure size 432x288 with 1 Axes>"
      ]
     },
     "metadata": {},
     "output_type": "display_data"
    }
   ],
   "source": [
    "plt.imshow(net.warped_moving_image[N, 0].detach().cpu())"
   ]
  },
  {
   "cell_type": "code",
   "execution_count": 148,
   "metadata": {},
   "outputs": [
    {
     "data": {
      "text/plain": [
       "<matplotlib.colorbar.Colorbar at 0x7f1d5e3cb0d0>"
      ]
     },
     "execution_count": 148,
     "metadata": {},
     "output_type": "execute_result"
    },
    {
     "data": {
      "image/png": "[encoded data removed]",
      "text/plain": [
       "<Figure size 432x288 with 2 Axes>"
      ]
     },
     "metadata": {},
     "output_type": "display_data"
    }
   ],
   "source": [
    "plt.imshow(net.mermaid_unit.m[N, 0].cpu().detach())\n",
    "plt.colorbar()"
   ]
  },
  {
   "cell_type": "code",
   "execution_count": null,
   "metadata": {},
   "outputs": [],
   "source": []
  },
  {
   "cell_type": "code",
   "execution_count": 149,
   "metadata": {},
   "outputs": [],
   "source": [
    "def get_phi(a, b):\n",
    "    net(a, b)\n",
    "    return net.phi.detach().cpu()"
   ]
  },
  {
   "cell_type": "code",
   "execution_count": 150,
   "metadata": {},
   "outputs": [
    {
     "name": "stderr",
     "output_type": "stream",
     "text": [
      "/media/data/anaconda3/envs/mermaid/lib/python3.7/site-packages/torch/nn/functional.py:2705: UserWarning: Default grid_sample and affine_grid behavior has changed to align_corners=False since 1.3.0. Please specify align_corners=True if the old behavior is desired. See the documentation of grid_sample for details.\n",
      "  warnings.warn(\"Default grid_sample and affine_grid behavior has changed \"\n"
     ]
    }
   ],
   "source": [
    "phi1 = get_phi(moving_image, fixed_image)\n",
    "phi2 = get_phi(fixed_image, moving_image)"
   ]
  },
  {
   "cell_type": "code",
   "execution_count": 151,
   "metadata": {},
   "outputs": [
    {
     "data": {
      "text/plain": [
       "<matplotlib.collections.PathCollection at 0x7f1d5e366610>"
      ]
     },
     "execution_count": 151,
     "metadata": {},
     "output_type": "execute_result"
    },
    {
     "data": {
      "image/png": "[encoded data removed]",
      "text/plain": [
       "<Figure size 432x288 with 1 Axes>"
      ]
     },
     "metadata": {},
     "output_type": "display_data"
    }
   ],
   "source": [
    "plt.scatter(phi1[N, 0], phi1[N, 1])"
   ]
  },
  {
   "cell_type": "code",
   "execution_count": 152,
   "metadata": {},
   "outputs": [],
   "source": [
    "ident_hope = py_utils.compute_warped_image_multiNC(phi1, phi2, net.spacing, 1)"
   ]
  },
  {
   "cell_type": "code",
   "execution_count": 153,
   "metadata": {},
   "outputs": [
    {
     "data": {
      "text/plain": [
       "<matplotlib.collections.PathCollection at 0x7f1d5e2bae90>"
      ]
     },
     "execution_count": 153,
     "metadata": {},
     "output_type": "execute_result"
    },
    {
     "data": {
      "image/png": "[encoded data removed]",
      "text/plain": [
       "<Figure size 432x288 with 1 Axes>"
      ]
     },
     "metadata": {},
     "output_type": "display_data"
    }
   ],
   "source": [
    "plt.scatter(ident_hope[N, 0], ident_hope[N, 1])"
   ]
  },
  {
   "cell_type": "code",
   "execution_count": 154,
   "metadata": {},
   "outputs": [
    {
     "data": {
      "text/plain": [
       "<matplotlib.colorbar.Colorbar at 0x7f1d5e1f1ed0>"
      ]
     },
     "execution_count": 154,
     "metadata": {},
     "output_type": "execute_result"
    },
    {
     "data": {
      "image/png": "[encoded data removed]",
      "text/plain": [
       "<Figure size 432x288 with 2 Axes>"
      ]
     },
     "metadata": {},
     "output_type": "display_data"
    }
   ],
   "source": [
    "plt.imshow(ident_hope[N, 1] - iden[N, 1])\n",
    "plt.colorbar()"
   ]
  },
  {
   "cell_type": "code",
   "execution_count": 155,
   "metadata": {},
   "outputs": [
    {
     "data": {
      "text/plain": [
       "<matplotlib.colorbar.Colorbar at 0x7f1d5e12a910>"
      ]
     },
     "execution_count": 155,
     "metadata": {},
     "output_type": "execute_result"
    },
    {
     "data": {
      "image/png": "[encoded data removed]",
      "text/plain": [
       "<Figure size 432x288 with 2 Axes>"
      ]
     },
     "metadata": {},
     "output_type": "display_data"
    }
   ],
   "source": [
    "plt.imshow(phi2[N, 1] - iden[N, 1])\n",
    "plt.colorbar()"
   ]
  },
  {
   "cell_type": "code",
   "execution_count": 5,
   "metadata": {},
   "outputs": [],
   "source": [
    "import json"
   ]
  },
  {
   "cell_type": "code",
   "execution_count": 10,
   "metadata": {},
   "outputs": [
    {
     "data": {
      "text/plain": [
       "{'model': {'deformation': {'compute_similarity_measure_at_low_res': False,\n",
       "   'use_map': True},\n",
       "  'registration_model': {'load_velocity_from_forward_model': True,\n",
       "   'spline_order': 1,\n",
       "   'type': 'svf_map',\n",
       "   'env': {'get_momentum_from_external_network': True,\n",
       "    'use_odeint': True,\n",
       "    'reg_factor': 10.0}}}}"
      ]
     },
     "execution_count": 10,
     "metadata": {},
     "output_type": "execute_result"
    }
   ],
   "source": [
    "json.load(open(\"mermaid_config_svf.json\", \"r\"))"
   ]
  },
  {
   "cell_type": "code",
   "execution_count": 18,
   "metadata": {},
   "outputs": [
    {
     "data": {
      "text/plain": [
       "tensor([[[[ 1.8210e-07, -7.0045e-08,  8.6584e-08,  ...,  9.6265e-08,\n",
       "           -1.0714e-07, -6.2749e-08],\n",
       "          [ 6.3618e-08, -2.9080e-08,  1.0044e-07,  ...,  1.7630e-07,\n",
       "            7.2663e-10, -6.0848e-08],\n",
       "          [-9.9639e-09,  8.0996e-08, -1.3020e-07,  ...,  1.9007e-08,\n",
       "            9.3819e-08, -7.3139e-08],\n",
       "          ...,\n",
       "          [-3.0777e-09,  3.4346e-09, -2.6429e-08,  ...,  5.2040e-08,\n",
       "           -1.9014e-07, -5.8176e-08],\n",
       "          [-6.6768e-08,  5.6820e-08,  1.0817e-08,  ...,  1.0500e-08,\n",
       "           -2.0653e-07,  1.8495e-07],\n",
       "          [ 1.8517e-07, -1.3943e-07,  1.3040e-07,  ..., -1.0652e-08,\n",
       "            1.0604e-08,  3.0844e-08]],\n",
       "\n",
       "         [[ 4.7274e-08,  9.7902e-08,  6.7238e-08,  ...,  2.0446e-08,\n",
       "            4.9523e-08, -1.3523e-08],\n",
       "          [-2.1141e-08,  4.6602e-09, -4.0182e-08,  ..., -5.2954e-08,\n",
       "            5.7505e-09, -2.3531e-08],\n",
       "          [-9.8935e-09, -4.4768e-09, -5.6421e-08,  ...,  4.8755e-08,\n",
       "           -1.0694e-07, -1.7360e-07],\n",
       "          ...,\n",
       "          [ 9.8229e-08,  1.0812e-07,  5.8682e-09,  ...,  2.0023e-07,\n",
       "           -1.7648e-08, -5.6867e-08],\n",
       "          [ 3.6684e-08,  3.3041e-08, -9.0136e-08,  ..., -4.4592e-08,\n",
       "            8.5816e-08,  2.5284e-08],\n",
       "          [-4.7362e-08, -2.1758e-07,  6.6096e-10,  ...,  1.5708e-07,\n",
       "            3.3501e-08, -5.9400e-08]]],\n",
       "\n",
       "\n",
       "        [[[ 1.0135e-07,  3.7332e-09, -7.8014e-08,  ...,  1.3513e-07,\n",
       "            9.4873e-08,  2.4035e-09],\n",
       "          [-1.4351e-07, -1.6451e-08,  1.2433e-08,  ...,  1.4811e-07,\n",
       "           -1.8368e-07, -4.5358e-08],\n",
       "          [ 3.7795e-08,  1.9652e-08,  1.3188e-07,  ...,  7.6375e-08,\n",
       "            2.8696e-08,  1.2101e-07],\n",
       "          ...,\n",
       "          [-9.7196e-08, -3.0313e-08, -5.1854e-08,  ...,  1.6910e-07,\n",
       "            1.0578e-08, -7.5989e-08],\n",
       "          [-4.0305e-08,  1.7061e-07, -1.7739e-07,  ..., -2.3280e-08,\n",
       "           -7.7002e-08,  2.1703e-08],\n",
       "          [-7.0386e-08, -5.9796e-08, -1.0812e-07,  ...,  2.8302e-08,\n",
       "            7.9064e-08,  1.9347e-08]],\n",
       "\n",
       "         [[-8.3328e-08,  6.1137e-08, -4.2790e-08,  ..., -6.1330e-08,\n",
       "           -1.3412e-07,  2.3626e-09],\n",
       "          [-3.8204e-08,  9.1444e-08, -7.4983e-09,  ..., -4.3535e-08,\n",
       "           -1.3140e-07,  1.8514e-07],\n",
       "          [-3.5480e-08, -1.1156e-08,  7.2563e-08,  ...,  2.6410e-07,\n",
       "           -1.1327e-07,  1.4667e-07],\n",
       "          ...,\n",
       "          [-4.1048e-08, -1.6741e-08, -1.4238e-07,  ..., -1.2604e-07,\n",
       "           -1.0778e-07, -1.2788e-07],\n",
       "          [ 5.3343e-08,  1.4529e-08,  4.4128e-08,  ...,  2.0464e-08,\n",
       "           -1.5242e-07, -1.2497e-07],\n",
       "          [-9.0407e-08, -1.3096e-07, -1.8778e-10,  ..., -6.1327e-08,\n",
       "           -1.7366e-07, -5.5639e-08]]],\n",
       "\n",
       "\n",
       "        [[[-3.5532e-08, -6.6813e-08, -8.2238e-08,  ...,  1.7537e-07,\n",
       "            1.7796e-07, -7.9697e-08],\n",
       "          [ 1.1918e-07, -1.2481e-07, -1.0609e-07,  ..., -3.9343e-08,\n",
       "            4.8266e-08, -6.1823e-08],\n",
       "          [-1.6805e-07, -8.5738e-09, -4.5537e-08,  ...,  7.0990e-08,\n",
       "           -1.5052e-07,  1.0850e-07],\n",
       "          ...,\n",
       "          [-3.6310e-08, -1.6520e-07, -3.3511e-08,  ..., -1.7540e-08,\n",
       "            2.1497e-07,  1.7099e-07],\n",
       "          [-4.1379e-08, -4.0840e-08,  1.0151e-07,  ..., -6.1446e-08,\n",
       "            6.9521e-08, -6.3302e-08],\n",
       "          [-7.9195e-08,  1.6352e-07,  1.3535e-07,  ..., -2.4584e-07,\n",
       "            3.1330e-08,  7.4313e-08]],\n",
       "\n",
       "         [[ 3.1275e-08, -1.3705e-07,  4.3905e-08,  ...,  9.8670e-08,\n",
       "           -9.5983e-08,  4.7929e-08],\n",
       "          [ 1.6098e-07, -1.4345e-07, -2.3626e-08,  ..., -1.6500e-07,\n",
       "           -1.0207e-07,  7.3291e-08],\n",
       "          [ 1.4754e-07, -2.3667e-07,  8.1575e-10,  ..., -5.4483e-08,\n",
       "           -1.5634e-07,  1.3640e-07],\n",
       "          ...,\n",
       "          [-1.1586e-07, -6.6802e-08,  5.7665e-08,  ...,  3.5312e-08,\n",
       "            9.8099e-08,  1.5186e-07],\n",
       "          [-7.1864e-08,  1.0284e-07, -5.7336e-08,  ...,  7.1310e-08,\n",
       "           -5.9357e-09,  6.1743e-08],\n",
       "          [ 1.1476e-08,  4.1816e-08,  7.2919e-08,  ...,  1.0197e-07,\n",
       "            3.7362e-09, -1.8135e-07]]],\n",
       "\n",
       "\n",
       "        ...,\n",
       "\n",
       "\n",
       "        [[[-8.3695e-08,  2.0240e-08,  1.5975e-07,  ...,  1.3724e-08,\n",
       "           -2.1408e-08, -7.2304e-08],\n",
       "          [ 1.6586e-07, -1.1372e-07, -4.7006e-08,  ..., -1.4827e-07,\n",
       "           -6.9869e-08,  1.2835e-07],\n",
       "          [-8.8992e-08, -7.0573e-08, -1.1708e-07,  ..., -1.6596e-08,\n",
       "            1.5406e-07, -1.6967e-08],\n",
       "          ...,\n",
       "          [ 1.6039e-07,  2.5616e-10, -4.3913e-08,  ...,  9.0488e-08,\n",
       "            9.9058e-08, -9.9980e-08],\n",
       "          [ 1.5274e-07,  9.6877e-09,  1.8062e-07,  ..., -1.4092e-07,\n",
       "           -1.5910e-07, -1.4274e-07],\n",
       "          [-9.4331e-08, -8.9748e-08, -1.0545e-08,  ..., -6.1539e-09,\n",
       "           -5.5296e-09,  1.5395e-07]],\n",
       "\n",
       "         [[ 6.3942e-08, -6.0367e-08, -3.2038e-09,  ...,  8.6130e-08,\n",
       "            3.1684e-08, -9.8695e-08],\n",
       "          [ 3.7327e-09,  6.3702e-08, -8.5195e-08,  ...,  2.4402e-07,\n",
       "            1.6823e-07, -4.8364e-08],\n",
       "          [ 1.2395e-07,  3.5016e-08,  1.8388e-08,  ..., -7.6801e-08,\n",
       "           -8.3186e-08, -8.8217e-08],\n",
       "          ...,\n",
       "          [-5.8961e-09, -5.3587e-08, -4.4769e-08,  ...,  1.5498e-07,\n",
       "            1.0095e-07, -1.2623e-07],\n",
       "          [-1.2959e-07, -8.0231e-08, -6.5934e-08,  ..., -2.1503e-07,\n",
       "            2.8110e-08,  5.8841e-08],\n",
       "          [-1.0715e-07, -5.6594e-08, -1.8990e-08,  ..., -1.9161e-08,\n",
       "            3.6098e-08,  9.5650e-08]]],\n",
       "\n",
       "\n",
       "        [[[ 1.1004e-07, -4.6921e-08,  1.0936e-07,  ...,  1.3165e-07,\n",
       "            5.6751e-08,  7.8950e-08],\n",
       "          [-9.8799e-08,  7.8456e-08,  1.1705e-07,  ..., -1.0044e-07,\n",
       "            9.5157e-08,  9.6253e-08],\n",
       "          [ 5.9131e-08,  3.4927e-08, -7.0456e-08,  ..., -3.4926e-08,\n",
       "           -4.5802e-08, -1.9456e-08],\n",
       "          ...,\n",
       "          [-6.0176e-08,  1.7218e-08,  9.4982e-08,  ..., -3.1729e-08,\n",
       "           -5.7177e-08,  9.3802e-08],\n",
       "          [-1.9958e-08, -1.1252e-07,  6.8074e-08,  ..., -2.9519e-08,\n",
       "           -1.2208e-07,  2.0266e-07],\n",
       "          [ 1.2300e-08, -1.3160e-07,  5.1949e-08,  ..., -2.6584e-08,\n",
       "            7.7244e-08,  2.7708e-08]],\n",
       "\n",
       "         [[ 1.0035e-07,  1.3498e-08, -2.8587e-08,  ...,  6.5705e-08,\n",
       "            4.2842e-08,  2.9383e-08],\n",
       "          [ 1.3367e-07, -3.0667e-08,  1.3850e-07,  ...,  9.8400e-08,\n",
       "            1.5710e-07, -4.5512e-08],\n",
       "          [-1.4875e-07, -1.6571e-08, -8.8301e-08,  ..., -4.4578e-08,\n",
       "            5.1401e-08,  1.6004e-07],\n",
       "          ...,\n",
       "          [-5.8819e-08,  2.4433e-07, -6.8399e-08,  ...,  1.8383e-08,\n",
       "           -4.6890e-08,  2.7412e-07],\n",
       "          [ 1.9948e-07,  1.3996e-07,  9.4063e-08,  ...,  6.4885e-08,\n",
       "           -9.2041e-09,  4.6459e-08],\n",
       "          [ 1.4016e-07, -1.0548e-07,  8.2731e-08,  ...,  5.6687e-08,\n",
       "            1.3967e-07, -1.1749e-07]]],\n",
       "\n",
       "\n",
       "        [[[ 1.9189e-07,  4.8006e-08, -3.5188e-08,  ..., -3.6381e-08,\n",
       "            8.7144e-08, -6.8263e-08],\n",
       "          [-9.2458e-08,  9.6567e-08, -1.0883e-07,  ..., -1.1486e-07,\n",
       "           -1.2386e-07, -9.9533e-08],\n",
       "          [-1.2853e-07, -1.9220e-08, -9.8900e-09,  ..., -7.0136e-08,\n",
       "            2.5649e-08,  2.2560e-07],\n",
       "          ...,\n",
       "          [-2.7807e-07, -1.1226e-07,  8.3867e-08,  ..., -7.2230e-08,\n",
       "            1.0222e-07, -2.8179e-08],\n",
       "          [ 1.3572e-07,  1.5094e-08,  4.4798e-08,  ...,  8.1498e-08,\n",
       "            2.0513e-07,  4.0292e-08],\n",
       "          [-4.4098e-08, -1.3179e-08, -4.8924e-08,  ..., -1.2128e-07,\n",
       "            8.7252e-08, -1.2583e-07]],\n",
       "\n",
       "         [[ 1.0849e-07,  6.1237e-08,  5.5926e-08,  ...,  2.6059e-08,\n",
       "            8.6595e-08, -1.0970e-07],\n",
       "          [ 4.3629e-08,  2.4022e-08,  1.0479e-07,  ...,  1.3888e-07,\n",
       "           -4.3356e-08,  2.6930e-10],\n",
       "          [-1.2937e-07, -1.0419e-07, -7.2260e-08,  ...,  9.2713e-08,\n",
       "           -7.0461e-08, -2.6419e-09],\n",
       "          ...,\n",
       "          [ 1.5178e-08, -1.1570e-07, -4.1003e-08,  ..., -3.4025e-08,\n",
       "            7.2840e-08,  1.1217e-07],\n",
       "          [ 2.7245e-08,  3.7932e-08,  2.8786e-08,  ...,  3.4331e-08,\n",
       "            2.0106e-08, -2.1656e-08],\n",
       "          [ 8.0734e-08, -4.6683e-08,  3.5516e-08,  ..., -5.5531e-08,\n",
       "            1.6725e-07,  1.5997e-07]]]], device='cuda:0', requires_grad=True)"
      ]
     },
     "execution_count": 18,
     "metadata": {},
     "output_type": "execute_result"
    }
   ],
   "source": [
    "net.mermaid_unit.m"
   ]
  },
  {
   "cell_type": "code",
   "execution_count": 28,
   "metadata": {},
   "outputs": [],
   "source": [
    "n2  = net.regis_net"
   ]
  },
  {
   "cell_type": "code",
   "execution_count": 33,
   "metadata": {},
   "outputs": [],
   "source": [
    "net.regis_net = n2"
   ]
  },
  {
   "cell_type": "code",
   "execution_count": null,
   "metadata": {},
   "outputs": [],
   "source": []
  }
 ],
 "metadata": {
  "kernelspec": {
   "display_name": "Python 3",
   "language": "python",
   "name": "python3"
  },
  "language_info": {
   "codemirror_mode": {
    "name": "ipython",
    "version": 3
   },
   "file_extension": ".py",
   "mimetype": "text/x-python",
   "name": "python",
   "nbconvert_exporter": "python",
   "pygments_lexer": "ipython3",
   "version": "3.7.8"
  }
 },
 "nbformat": 4,
 "nbformat_minor": 4
}
